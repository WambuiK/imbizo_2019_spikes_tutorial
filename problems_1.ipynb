{
 "cells": [
  {
   "cell_type": "markdown",
   "metadata": {},
   "source": [
    "# Problem set for Spike Right to Swipe: Part 1"
   ]
  },
  {
   "cell_type": "code",
   "execution_count": null,
   "metadata": {},
   "outputs": [],
   "source": [
    "%matplotlib inline\n",
    "import matplotlib.pyplot as plt\n",
    "import numpy as np\n",
    "\n",
    "\n",
    "# feel free to use this functions to make your plots look nicer :)\n",
    "def set_font_size(ax, font_size, legend_font_size=None):\n",
    "    \"\"\"Set fontsize of all axis text objects to specified value.\"\"\"\n",
    "\n",
    "    texts = ([ax.title, ax.xaxis.label, ax.yaxis.label] + ax.get_xticklabels() + ax.get_yticklabels())\n",
    "\n",
    "    for text in texts:\n",
    "        text.set_fontsize(font_size)\n",
    "\n",
    "    if legend_font_size is None:\n",
    "        legend_font_size = font_size\n",
    "\n",
    "    legend = ax.get_legend()\n",
    "\n",
    "    if legend:\n",
    "        for text in legend.get_texts():\n",
    "            text.set_fontsize(legend_font_size)"
   ]
  },
  {
   "cell_type": "markdown",
   "metadata": {},
   "source": [
    "# 0. Warm up"
   ]
  },
  {
   "cell_type": "markdown",
   "metadata": {},
   "source": [
    "A. To run computational anlayses we usually discretize continuous time into evenly spaced timesteps. What is the timestep size $\\Delta t$ for a 1000 Hz sampling frequency? How many timesteps are needed to represent a 10-second time-series at 1000 Hz? A 50-second time-series at 500 Hz? Generate a 1-D time array for each case."
   ]
  },
  {
   "cell_type": "markdown",
   "metadata": {},
   "source": [
    "B. Given firing rate $r(t)$ and discretization time step $\\Delta t$, what is the discretized probability of spiking as a function of time? Assume $\\Delta t$ is small enough to never allow more than one spike per time step."
   ]
  },
  {
   "cell_type": "markdown",
   "metadata": {},
   "source": [
    "C. The histogram is a very common way of visualizing a distribution of samples. Generate three different samples of 1000 uniformly distributed random variables between 0 and 1, and make three corresponding histograms binning the results into 30 evenly spaced bins. Repeat for normally (Gaussian) distributed variables. (Hint: use the functions `np.random.uniform` and `np.random.normal`)."
   ]
  },
  {
   "cell_type": "markdown",
   "metadata": {},
   "source": [
    "D. The notion of *covariance* is designed to capture how the variations in two random variables relate to one another. Mathematically, the covariance $C$ between $X$ and $Y$ is defined as $C(X, Y) = E[(X - E[X])(Y - E[Y])]$, where $E$ is the expectation. Explain in your own words how this equation captures how two variables do/do not covary."
   ]
  },
  {
   "cell_type": "markdown",
   "metadata": {},
   "source": [
    "# 1. Poisson spiking"
   ]
  },
  {
   "cell_type": "markdown",
   "metadata": {},
   "source": [
    "A. Given constant firing rates 5 Hz, 10 Hz, or 30 Hz, generate a 200-second spike train using a 1000 Hz sampling frequency, with Poisson-distributed spike counts. Print out the total number of spikes generated at each rate over the 200 seconds. Plot a short sample of each spike train.\n",
    "\n",
    "B. For each firing rate, count how many spikes are in each 1-second window (with 200 1-second windows total). For each firing rate, make a histogram of the results using integer bins. Print each histogram's mean and variance.\n",
    "\n",
    "C. For each firing rate, compute the inter-spike interval distribution. Plot a histogram of the results in both original and log counts for each firing rate. (You can set an axis object's y-axis to log scale using `ax.set_yscale('log', nonposy='clip')`.) How does the mean of the inter-spike interval distribution relate to the firing rate?"
   ]
  },
  {
   "cell_type": "markdown",
   "metadata": {},
   "source": [
    "## A"
   ]
  },
  {
   "cell_type": "code",
   "execution_count": null,
   "metadata": {},
   "outputs": [],
   "source": [
    "frs = ...  # our firing rates (Hz)\n",
    "dt = ...  # sampling itvl (s)\n",
    "\n",
    "t = ...  # time array\n",
    "spks_all = []  # to store all spk trains\n",
    "\n",
    "for fr in frs:  # loop over firing rates\n",
    "    \n",
    "    ...  # spike prob in 1 time bin\n",
    "    spks = ...  # generate spike train\n",
    "    \n",
    "    spks_all.append(spks)  # save spks"
   ]
  },
  {
   "cell_type": "code",
   "execution_count": null,
   "metadata": {},
   "outputs": [],
   "source": [
    "# spike train plots\n",
    "fig, ax = plt.subplots(1, 1, figsize=(15, 4))\n",
    "\n",
    "for ctr, spks in enumerate(spks_all):\n",
    "    # get spk times\n",
    "    ...\n",
    "    \n",
    "    # select small window to show (between 3 & 6 seconds)\n",
    "    ...\n",
    "    \n",
    "    # make scatter plot of spike times\n",
    "    ax.scatter(...)\n",
    "\n",
    "# clean up and label plot\n",
    "...\n",
    "\n",
    "set_font_size(ax, 16)"
   ]
  },
  {
   "cell_type": "code",
   "execution_count": null,
   "metadata": {},
   "outputs": [],
   "source": [
    "# print spk counts for each fr\n",
    "..."
   ]
  },
  {
   "cell_type": "markdown",
   "metadata": {},
   "source": [
    "## B"
   ]
  },
  {
   "cell_type": "code",
   "execution_count": null,
   "metadata": {},
   "outputs": [],
   "source": [
    "# spike count distributions\n",
    "cts = [[], [], []]  # where we'll store spk counts for each firing rate\n",
    "\n",
    "for fr_ctr, spks in enumerate(spks_all):  # loop over spike trains from diff firing rates\n",
    "    # get spk counts in 1-sec windows\n",
    "    ...\n",
    "\n",
    "# plot stuff\n",
    "fig, axs = plt.subplots(1, 3, figsize=(15, 5))\n",
    "\n",
    "...\n",
    "    \n",
    "# clean up plots\n",
    "for ax in axs:\n",
    "    ax.set_xlabel('Counts in 1 sec')\n",
    "    ax.set_ylabel('# occurrences')\n",
    "    \n",
    "    set_font_size(ax, 16)"
   ]
  },
  {
   "cell_type": "markdown",
   "metadata": {},
   "source": [
    "## C"
   ]
  },
  {
   "cell_type": "code",
   "execution_count": null,
   "metadata": {},
   "outputs": [],
   "source": [
    "# interspike intervals\n",
    "isis_all = []\n",
    "\n",
    "for spks in spks_all:  # loop over diff fr's spk trains\n",
    "    ...\n",
    "    \n",
    "# make isi histograms\n",
    "fig, axs = plt.subplots(1, 3, figsize=(15, 5), tight_layout=True)\n",
    "\n",
    "...\n",
    "\n",
    "# clean up plots\n",
    "for ax in axs:\n",
    "    ax.set_xlabel('Interspike interval (s)')\n",
    "    ax.set_ylabel('# Occurrences')\n",
    "    \n",
    "    set_font_size(ax, 16)\n",
    "    \n",
    "# plot log plots\n",
    "fig, axs = plt.subplots(1, 3, figsize=(15, 5), tight_layout=True)\n",
    "\n",
    "...\n",
    "    \n",
    "for ax in axs:\n",
    "    ax.set_xlabel('Interspike interval (s)')\n",
    "    ax.set_ylabel('# Occurrences')\n",
    "    \n",
    "    set_font_size(ax, 16)"
   ]
  },
  {
   "cell_type": "markdown",
   "metadata": {},
   "source": [
    "# 2. Tuning curves"
   ]
  },
  {
   "cell_type": "markdown",
   "metadata": {},
   "source": [
    "Here you will make a tuning curve of a model neuron's spiking responses to different stimuli.\n",
    "\n",
    "Suppose the spike train in the file `motion_spks.npy` was recorded from a cortical neuron while an animal was shown a bar moving in any one of sixteen directions 0°, 22.5, 45°, ... 337.5°. Assume stimuli were presented for 1 second each in random order, with 25 repetitions per stimulus (for 400 stim presentations total), and with a 1 second interstimulus interval. The resulting spike train is given in the 1-D binary array `spks`, recorded at 1000 Hz; and the dictionary `stim` contains the start times for each stim presentation. The variable `thetas` contains a list of the 16 angles. The variable `t` contains an array of timestamps.\n",
    "\n",
    "A. For each stimulus direction, make a raster plot and PSTH showing the neuron's response to the stimulus. Include 1 s prior to stimulus onset and 1 s post stimulus offset, for a 3 second raster or PSTH in total. Does the neuron's response appear to depend on the bar angle?\n",
    "\n",
    "B. Use these results to construct a tuning curve showing the mean firing rate response to each stimulus (in Hz, time-averaged over the 1-second presentation), as well as the standard deviation of the response (use the function `ax.errorbar`). Write 1-2 sentences describing the neuron's tuning curve."
   ]
  },
  {
   "cell_type": "markdown",
   "metadata": {},
   "source": [
    "## A"
   ]
  },
  {
   "cell_type": "code",
   "execution_count": null,
   "metadata": {},
   "outputs": [],
   "source": [
    "dt = ...  # timestep size\n",
    "\n",
    "# load data\n",
    "data = np.load('motion_spks.npy')[0]\n",
    "\n",
    "t = data['t']\n",
    "thetas = data['thetas']\n",
    "stims = data['stims']\n",
    "spks = data['spks']\n",
    "\n",
    "# set up plots\n",
    "fig, axs = plt.subplots(4, 4, figsize=(15, 15), tight_layout=True)\n",
    "\n",
    "spks_theta_all = []  # to store spk train arrays for all thetas\n",
    "\n",
    "# loop over stim angles\n",
    "for theta, ax in zip(thetas, axs.flat):\n",
    "    \n",
    "    # array for storing 3000 timestep spk train for each stim presentation\n",
    "    ...\n",
    "    \n",
    "    # get all spks surrounding stim starts for this angle\n",
    "    ...\n",
    "    \n",
    "    # make raster plot\n",
    "    ...\n",
    "    \n",
    "    # store\n",
    "    ...\n",
    "    \n",
    "    ax.axvspan(0, 1, color='r', alpha=0.2)  # shade time of stim\n",
    "    ax.set_title('Theta = ' + str(theta) + ' deg')\n",
    "    \n",
    "# label/clean up plots\n",
    "for ax in axs.flat:\n",
    "    ax.set_xlabel('Time (s)')\n",
    "    ax.set_ylabel('Trial')\n",
    "    set_font_size(ax, 16)"
   ]
  },
  {
   "cell_type": "code",
   "execution_count": null,
   "metadata": {},
   "outputs": [],
   "source": [
    "# PSTHs\n",
    "fig, axs = plt.subplots(4, 4, figsize=(15, 12), tight_layout=True)  # make fig\n",
    "\n",
    "...\n",
    "\n",
    "# loop over angles, spk trains, and axis objects\n",
    "for theta, spks_theta, ax in zip(thetas, spks_theta_all, axs.flat):\n",
    "    \n",
    "    frs_theta = []  # to store firing rate for each time bin for this theta\n",
    "    \n",
    "    # loop over time bins\n",
    "    for start, end in ...\n",
    "        ...\n",
    "        \n",
    "    # plot\n",
    "    ...\n",
    "    \n",
    "    ax.set_xlim(-1, 2)\n",
    "    ax.set_ylim(0, 60)\n",
    "    \n",
    "    ax.set_xlabel('Time (s)')\n",
    "    ax.set_ylabel('FR (Hz)')\n",
    "    ax.set_title('Theta = ' + str(theta) + ' deg')\n",
    "    \n",
    "    # get total avg firing rate for this trial\n",
    "    ...\n",
    "    \n",
    "for ax in axs.flat:\n",
    "    set_font_size(ax, 16)"
   ]
  },
  {
   "cell_type": "markdown",
   "metadata": {},
   "source": [
    "## B"
   ]
  },
  {
   "cell_type": "code",
   "execution_count": null,
   "metadata": {},
   "outputs": [],
   "source": [
    "fig, ax = plt.subplots(1, 1, figsize=(7, 4))\n",
    "\n",
    "# compute and plot tuning curve\n",
    "...\n",
    "\n",
    "ax.set_ylim(0, 60)\n",
    "\n",
    "ax.set_xlabel('Theta (deg)')\n",
    "ax.set_ylabel('Firing rate (Hz)')\n",
    "ax.set_title('Moving bar angle tuning curve')\n",
    "\n",
    "set_font_size(ax, 16)"
   ]
  }
 ],
 "metadata": {
  "kernelspec": {
   "display_name": "Python 3",
   "language": "python",
   "name": "python3"
  },
  "language_info": {
   "codemirror_mode": {
    "name": "ipython",
    "version": 3
   },
   "file_extension": ".py",
   "mimetype": "text/x-python",
   "name": "python",
   "nbconvert_exporter": "python",
   "pygments_lexer": "ipython3",
   "version": "3.6.7"
  }
 },
 "nbformat": 4,
 "nbformat_minor": 2
}
